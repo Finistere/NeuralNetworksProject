{
 "cells": [
  {
   "cell_type": "code",
   "execution_count": 6,
   "metadata": {
    "collapsed": false
   },
   "outputs": [],
   "source": [
    "import numpy as np\n",
    "from benchmarks import RobustnessExperiment\n",
    "from feature_ranking import SymmetricalUncertainty  \n",
    "from feature_ranking import Relief\n",
    "from feature_ranking import SVM_RFE\n",
    "from robustness_measure import Spearman \n",
    "from robustness_measure import JaccardIndex\n",
    "# classifiers\n",
    "from sklearn.neighbors import KNeighborsClassifier\n",
    "from sklearn.svm import SVC\n",
    "from sklearn.ensemble import RandomForestClassifier"
   ]
  },
  {
   "cell_type": "code",
   "execution_count": 7,
   "metadata": {
    "collapsed": false
   },
   "outputs": [],
   "source": [
    "feature_rankings = [SymmetricalUncertainty(),\n",
    "                    Relief(),\n",
    "                    SVM_RFE()\n",
    "                   ]\n",
    "robustness_measures = [Spearman(),\n",
    "                       JaccardIndex(percentage = 0.01),\n",
    "                       JaccardIndex(percentage = 0.05)]\n",
    "classifiers = [KNeighborsClassifier(3),\n",
    "               SVC(kernel=\"linear\", C=0.025),\n",
    "               RandomForestClassifier(max_depth=5, n_estimators=10, max_features=1)]\n",
    "\n",
    "import warnings\n",
    "warnings.filterwarnings('ignore')\n",
    "\n",
    "robustness_experiment = RobustnessExperiment(robustness_measures, feature_rankings)"
   ]
  },
  {
   "cell_type": "code",
   "execution_count": 3,
   "metadata": {
    "collapsed": true
   },
   "outputs": [],
   "source": [
    "# data\n",
    "import sklearn.datasets\n",
    "mnist = sklearn.datasets.load_digits()\n",
    "data = mnist.data.T[:,:500]\n",
    "classes = mnist.target[:500]"
   ]
  },
  {
   "cell_type": "code",
   "execution_count": 8,
   "metadata": {
    "collapsed": false
   },
   "outputs": [
    {
     "name": "stdout",
     "output_type": "stream",
     "text": [
      "CPU times: user 14 s, sys: 914 µs, total: 14 s\n",
      "Wall time: 14 s\n",
      "Robustness Experiment : \n",
      "|                       | SymmetricalUncertainty   | Relief   | SVM_RFE   |\n",
      "|:----------------------|:-------------------------|:---------|:----------|\n",
      "| Spearmann coefficient | 99.49%                   | 99.68%   | 97.15%    |\n",
      "| Jaccard Index 1.00%   | 20.00%                   | 100.00%  | 28.89%    |\n",
      "| Jaccard Index 5.00%   | 58.22%                   | 92.00%   | 31.96%    |\n"
     ]
    }
   ],
   "source": [
    "%time robustness_experiment.run(data, classes)\n",
    "robustness_experiment.print_results()"
   ]
  },
  {
   "cell_type": "code",
   "execution_count": 24,
   "metadata": {
    "collapsed": true
   },
   "outputs": [],
   "source": [
    "data = np.loadtxt('./data/gisette_train.data').T\n",
    "classes = np.loadtxt('./data/gisette_train.labels')"
   ]
  },
  {
   "cell_type": "code",
   "execution_count": 100,
   "metadata": {
    "collapsed": false
   },
   "outputs": [
    {
     "name": "stdout",
     "output_type": "stream",
     "text": [
      "CPU times: user 1h 22min 12s, sys: 18.9 s, total: 1h 22min 31s\n",
      "Wall time: 1h 56min 26s\n",
      "ROBUSTNESS \n",
      "\n",
      "                       SymmetricalUncertainty | Relief    \n",
      "Spearman             :     99.52% |     91.86%\n",
      "JaccardIndex         :     91.20% |     91.60%\n"
     ]
    }
   ],
   "source": [
    "%time robustness_experiment.run(data, classes)\n",
    "robustness_experiment.print_results()"
   ]
  },
  {
   "cell_type": "code",
   "execution_count": 97,
   "metadata": {
    "collapsed": true
   },
   "outputs": [],
   "source": [
    "# Colon data\n",
    "data = np.loadtxt('./data/colon.data')[:,:500]\n",
    "classes = np.loadtxt('./data/colon.labels')[:500]"
   ]
  },
  {
   "cell_type": "code",
   "execution_count": 98,
   "metadata": {
    "collapsed": false
   },
   "outputs": [
    {
     "name": "stdout",
     "output_type": "stream",
     "text": [
      "CPU times: user 16.7 s, sys: 0 ns, total: 16.7 s\n",
      "Wall time: 16.7 s\n",
      "ROBUSTNESS \n",
      "\n",
      "                       SymmetricalUncertainty | Relief    \n",
      "Spearman             :     98.94% |     99.26%\n",
      "JaccardIndex         :     99.16% |     87.62%\n"
     ]
    }
   ],
   "source": [
    "%time robustness_experiment.run(data, classes)\n",
    "robustness_experiment.print_results()"
   ]
  }
 ],
 "metadata": {
  "kernelspec": {
   "display_name": "Python 3",
   "language": "python",
   "name": "python3"
  },
  "language_info": {
   "codemirror_mode": {
    "name": "ipython",
    "version": 3
   },
   "file_extension": ".py",
   "mimetype": "text/x-python",
   "name": "python",
   "nbconvert_exporter": "python",
   "pygments_lexer": "ipython3",
   "version": "3.4.3"
  },
  "widgets": {
   "state": {},
   "version": "1.1.0"
  }
 },
 "nbformat": 4,
 "nbformat_minor": 0
}
